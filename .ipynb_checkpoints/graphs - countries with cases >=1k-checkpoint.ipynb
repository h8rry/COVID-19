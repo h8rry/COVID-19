{
 "cells": [
  {
   "cell_type": "code",
   "execution_count": 1,
   "metadata": {},
   "outputs": [],
   "source": [
    "import numpy as np\n",
    "import pandas as pd\n",
    "import matplotlib.pyplot as plt\n",
    "from datetime import datetime, timedelta\n",
    "\n",
    "import matplotlib.ticker as mtick\n",
    "\n",
    "import glob"
   ]
  },
  {
   "cell_type": "code",
   "execution_count": 2,
   "metadata": {},
   "outputs": [],
   "source": [
    "import world_bank_data as wb\n",
    "\n",
    "pop = pd.DataFrame(wb.get_series('SP.POP.TOTL', mrv=1))\n",
    "pop = pop.reset_index()"
   ]
  },
  {
   "cell_type": "code",
   "execution_count": 3,
   "metadata": {
    "scrolled": false
   },
   "outputs": [],
   "source": [
    "# pop[pop['Country'] == 'Korea, Rep.']\n",
    "# pd.set_option('display.max_rows', 500)\n",
    "# display(pop)"
   ]
  },
  {
   "cell_type": "code",
   "execution_count": 4,
   "metadata": {},
   "outputs": [],
   "source": [
    "df = pd.read_csv('csse_covid_19_data/csse_covid_19_time_series/time_series_19-covid-Confirmed.csv', \\\n",
    "                 parse_dates=True)"
   ]
  },
  {
   "cell_type": "code",
   "execution_count": 5,
   "metadata": {},
   "outputs": [],
   "source": [
    "df = df[df['Province/State'] != 'Diamond Princess']\n",
    "df = df[df['Province/State'] != 'Grand Princess']"
   ]
  },
  {
   "cell_type": "code",
   "execution_count": 6,
   "metadata": {
    "scrolled": true
   },
   "outputs": [],
   "source": [
    "df = df.groupby('Country/Region').sum()"
   ]
  },
  {
   "cell_type": "code",
   "execution_count": 7,
   "metadata": {},
   "outputs": [],
   "source": [
    "df = df.T"
   ]
  },
  {
   "cell_type": "code",
   "execution_count": 8,
   "metadata": {},
   "outputs": [],
   "source": [
    "df = df.drop('Lat')\n",
    "df = df.drop('Long')"
   ]
  },
  {
   "cell_type": "code",
   "execution_count": 9,
   "metadata": {},
   "outputs": [
    {
     "data": {
      "text/plain": [
       "Index(['Afghanistan', 'Albania', 'Algeria', 'Andorra', 'Angola',\n",
       "       'Antigua and Barbuda', 'Argentina', 'Armenia', 'Australia', 'Austria',\n",
       "       ...\n",
       "       'United States', 'Ukraine', 'United Arab Emirates', 'United Kingdom',\n",
       "       'Uruguay', 'Uzbekistan', 'Venezuela', 'Vietnam', 'Zambia', 'Zimbabwe'],\n",
       "      dtype='object', name='Country/Region', length=161)"
      ]
     },
     "execution_count": 9,
     "metadata": {},
     "output_type": "execute_result"
    }
   ],
   "source": [
    "df = df.rename(columns={\"US\": \"United States\"}, errors=\"raise\")\n",
    "df = df.rename(columns={\"Korea, South\": \"Korea, Rep.\"}, errors=\"raise\")\n",
    "df.columns"
   ]
  },
  {
   "cell_type": "code",
   "execution_count": 10,
   "metadata": {},
   "outputs": [],
   "source": [
    "df.index = pd.to_datetime(df.index)"
   ]
  },
  {
   "cell_type": "code",
   "execution_count": 11,
   "metadata": {},
   "outputs": [],
   "source": [
    "df.index.name = 'Date'"
   ]
  },
  {
   "cell_type": "code",
   "execution_count": 12,
   "metadata": {},
   "outputs": [],
   "source": [
    "today = df.iloc[-1]"
   ]
  },
  {
   "cell_type": "code",
   "execution_count": 13,
   "metadata": {},
   "outputs": [
    {
     "name": "stdout",
     "output_type": "stream",
     "text": [
      "Index(['Argentina', 'Armenia', 'Australia', 'Bahrain', 'Brazil', 'Bulgaria',\n",
      "       'Canada', 'Chile', 'Colombia', 'Croatia', 'Czechia', 'Ecuador', 'Egypt',\n",
      "       'Estonia', 'Finland', 'Greece', 'Iceland', 'India', 'Indonesia', 'Iraq',\n",
      "       'Ireland', 'Israel', 'Japan', 'Kuwait', 'Latvia', 'Lebanon',\n",
      "       'Luxembourg', 'Mexico', 'Pakistan', 'Panama', 'Peru', 'Philippines',\n",
      "       'Poland', 'Qatar', 'Romania', 'Russia', 'San Marino', 'Saudi Arabia',\n",
      "       'Serbia', 'Singapore', 'Slovakia', 'Slovenia', 'South Africa',\n",
      "       'Taiwan*', 'Thailand', 'Turkey', 'United Arab Emirates'],\n",
      "      dtype='object', name='Country/Region')\n",
      "Index(['Austria', 'Belgium', 'Denmark', 'Korea, Rep.', 'Malaysia',\n",
      "       'Netherlands', 'Norway', 'Portugal', 'Sweden', 'Switzerland',\n",
      "       'United Kingdom'],\n",
      "      dtype='object', name='Country/Region')\n",
      "Index(['China', 'France', 'Germany', 'Iran', 'Italy', 'Spain',\n",
      "       'United States'],\n",
      "      dtype='object', name='Country/Region')\n"
     ]
    }
   ],
   "source": [
    "print(today[(today >= 100) & (today < 1000)].index)\n",
    "print(today[(today >= 1000) & (today < 10000)].index)\n",
    "print(today[(today >= 10000)].index)"
   ]
  },
  {
   "cell_type": "code",
   "execution_count": 14,
   "metadata": {},
   "outputs": [
    {
     "name": "stdout",
     "output_type": "stream",
     "text": [
      "['China', 'France', 'Germany', 'Iran', 'Italy', 'Korea, Rep.', 'Netherlands', 'Spain', 'Switzerland', 'United States', 'United Kingdom']\n"
     ]
    }
   ],
   "source": [
    "condition = today[(today > 2500)].index\n",
    "print(list(condition))"
   ]
  },
  {
   "cell_type": "code",
   "execution_count": 18,
   "metadata": {},
   "outputs": [],
   "source": [
    "countries = list(condition)\n",
    "countries.remove('Iran')\n",
    "countries.remove('China')\n",
    "countries.append('Canada')\n",
    "\n",
    "min_case_num = 500\n",
    "min_case_pct = 1/100000.\n",
    "title_name = \"countries with cases >2500 excl. China, Iran, incl. Canada\""
   ]
  },
  {
   "cell_type": "code",
   "execution_count": 19,
   "metadata": {
    "scrolled": false
   },
   "outputs": [],
   "source": [
    "data = {}\n",
    "data_original = {}\n",
    "data_pct = {}\n",
    "\n",
    "for c in countries:\n",
    "    data_original[c] = df[c]\n",
    "\n",
    "    country = df[c]\n",
    "    country100 = country[country >= min_case_num]\n",
    "    country100 = country100.reset_index()\n",
    "    data[c] = country100[c]\n",
    "    \n",
    "    size = pop[pop['Country'] == c]['SP.POP.TOTL']\n",
    "    df[c+' (by population)'] = df[c] * 1. / int(size)\n",
    "\n",
    "    country_pct = df[c+' (by population)']\n",
    "    country0_00001 = country_pct[country_pct >= min_case_pct]\n",
    "    country0_00001 = country0_00001.reset_index()\n",
    "    data_pct[c] = country0_00001[c+' (by population)']"
   ]
  },
  {
   "cell_type": "code",
   "execution_count": 20,
   "metadata": {},
   "outputs": [
    {
     "data": {
      "text/plain": [
       "Text(0.5, 0, 'Days after passing 500 confirmed cases')"
      ]
     },
     "execution_count": 20,
     "metadata": {},
     "output_type": "execute_result"
    },
    {
     "data": {
      "image/png": "[encoded data removed]",
      "text/plain": [
       "<Figure size 720x720 with 1 Axes>"
      ]
     },
     "metadata": {
      "needs_background": "light"
     },
     "output_type": "display_data"
    }
   ],
   "source": [
    "fig, axes = plt.subplots(1, sharex=\"all\", gridspec_kw={'height_ratios': [1]}, figsize=(10, 10))\n",
    "\n",
    "for c in data.keys():\n",
    "    data[c].plot(logy=True, marker='o')\n",
    "\n",
    "axes.legend()\n",
    "axes.set_title(\"# of Confirmed COVID-19 cases in \" + title_name + \" (Log Scale)\")\n",
    "axes.set_xlabel(\"Days after passing \" + str(min_case_num) + \" confirmed cases\")"
   ]
  },
  {
   "cell_type": "code",
   "execution_count": null,
   "metadata": {
    "scrolled": false
   },
   "outputs": [
    {
     "data": {
      "text/plain": [
       "Text(0.5, 0, 'Days after passing 500 confirmed cases')"
      ]
     },
     "execution_count": 21,
     "metadata": {},
     "output_type": "execute_result"
    }
   ],
   "source": [
    "fig, axes = plt.subplots(len(data.keys()), figsize=(10, 20))\n",
    "\n",
    "i = 0\n",
    "for c in data.keys():\n",
    "    data[c].diff().plot(ax=axes[i], kind=\"bar\")\n",
    "    axes[i].legend()\n",
    "    i += 1\n",
    "\n",
    "axes[0].set_title(\"# of NEW confirmed COVID-19 cases in \" + title_name)\n",
    "axes[-1].set_xlabel(\"Days after passing \" + str(min_case_num) + \" confirmed cases\")"
   ]
  },
  {
   "cell_type": "code",
   "execution_count": null,
   "metadata": {},
   "outputs": [],
   "source": [
    "# pd.DataFrame([1,1.2,1.2**3]).pct_change()"
   ]
  },
  {
   "cell_type": "code",
   "execution_count": null,
   "metadata": {
    "scrolled": false
   },
   "outputs": [],
   "source": [
    "for c in data.keys():\n",
    "    size = pop[pop['Country'] == c]['SP.POP.TOTL']\n",
    "    growth_rate = data[c].tail(5).pct_change().mean()\n",
    "    num_cases = data[c].iloc[-1]\n",
    "    projected_num_cases = int(num_cases*(1+growth_rate)**7)\n",
    "    \n",
    "    print(c)\n",
    "    print('% growth rate:', round(growth_rate * 100, 2),'%')\n",
    "    print('% Infected (today)', round(num_cases / int(size) * 100, 4), '%')\n",
    "    print('% Infected (projected in 7 days)', round(projected_num_cases / int(size) * 100, 4), '%')\n",
    "    print('# Infected (today) / Total Population:', int(num_cases),'/',int(size))\n",
    "    print('# Infected (projected in 7 days) / Total Population:', int(projected_num_cases),'/',int(size))\n",
    "    print('--')"
   ]
  },
  {
   "cell_type": "code",
   "execution_count": null,
   "metadata": {},
   "outputs": [],
   "source": [
    "# print(data_pct)"
   ]
  },
  {
   "cell_type": "code",
   "execution_count": null,
   "metadata": {
    "scrolled": false
   },
   "outputs": [],
   "source": [
    "fig, axes = plt.subplots(1, sharex=\"all\", gridspec_kw={'height_ratios': [1]}, figsize=(10, 10))\n",
    "\n",
    "for c in data.keys():\n",
    "    data_pct[c].plot(logy=True, marker='o')\n",
    "\n",
    "axes.legend()\n",
    "axes.yaxis.set_major_formatter(mtick.PercentFormatter())\n",
    "axes.set_title(\"% of population infected with COVID-19 in \" + title_name + \" (Log Scale)\")\n",
    "axes.set_xlabel(\"Days after infecting at least 1 out of 100,000 people\")"
   ]
  },
  {
   "cell_type": "code",
   "execution_count": null,
   "metadata": {},
   "outputs": [],
   "source": [
    "fig, axes = plt.subplots(1, sharex=\"all\", gridspec_kw={'height_ratios': [1]}, figsize=(10, 10))\n",
    "\n",
    "for c in data.keys():\n",
    "    data_pct[c].plot(marker='o')\n",
    "\n",
    "axes.legend()\n",
    "axes.yaxis.set_major_formatter(mtick.PercentFormatter())\n",
    "axes.set_title(\"% of population infected with COVID-19 in \" + title_name + \" (Linear Scale)\")\n",
    "axes.set_xlabel(\"Days after infecting at least 1 out of 100,000 people\")"
   ]
  },
  {
   "cell_type": "code",
   "execution_count": null,
   "metadata": {},
   "outputs": [],
   "source": []
  },
  {
   "cell_type": "code",
   "execution_count": null,
   "metadata": {},
   "outputs": [],
   "source": [
    "fig, axes = plt.subplots(1, sharex=\"all\", gridspec_kw={'height_ratios': [1]}, figsize=(10, 10))\n",
    "\n",
    "for c in data.keys():\n",
    "    growth_rate = data_pct[c].rolling(window=5).mean().pct_change() * 100.\n",
    "    growth_rate.plot(marker='o')\n",
    "\n",
    "axes.legend()\n",
    "axes.yaxis.set_major_formatter(mtick.PercentFormatter())\n",
    "axes.set_title(\"Growth rate of COVID-19 in \" + title_name + \"\\n (5-day moving average applied to smooth curve)\")\n",
    "axes.set_xlabel(\"Days after infecting at least 1 out of 100,000 people\")"
   ]
  },
  {
   "cell_type": "code",
   "execution_count": null,
   "metadata": {},
   "outputs": [],
   "source": []
  },
  {
   "cell_type": "code",
   "execution_count": null,
   "metadata": {},
   "outputs": [],
   "source": [
    "fig, axes = plt.subplots(1, sharex=\"all\", gridspec_kw={'height_ratios': [1]}, figsize=(10, 10))\n",
    "\n",
    "for c in data.keys():\n",
    "    data[c].plot(marker='o')\n",
    "\n",
    "axes.legend()\n",
    "axes.set_title(\"# of Confirmed COVID-19 cases in \" + title_name + \" (Linear Scale)\")\n",
    "axes.set_xlabel(\"Days after passing \" + str(min_case_num) + \" confirmed cases\")"
   ]
  },
  {
   "cell_type": "code",
   "execution_count": null,
   "metadata": {},
   "outputs": [],
   "source": [
    "fig, axes = plt.subplots(1, sharex=\"all\", gridspec_kw={'height_ratios': [1]}, figsize=(10, 10))\n",
    "\n",
    "for s in data.keys():\n",
    "    data_original[s].plot(logy=True, marker='o')\n",
    "\n",
    "axes.legend()\n",
    "axes.set_title(\"# of Confirmed COVID-19 cases in \" + title_name + \" (Log Scale)\")\n",
    "axes.set_xlabel(\"Dates\")"
   ]
  },
  {
   "cell_type": "code",
   "execution_count": null,
   "metadata": {},
   "outputs": [],
   "source": [
    "fig, axes = plt.subplots(1, sharex=\"all\", gridspec_kw={'height_ratios': [1]}, figsize=(10, 10))\n",
    "\n",
    "for s in data.keys():\n",
    "    data_original[s].plot(marker='o')\n",
    "\n",
    "axes.legend()\n",
    "axes.set_title(\"# of Confirmed COVID-19 cases in \" + title_name + \" (Linear Scale)\")\n",
    "axes.set_xlabel(\"Dates\")"
   ]
  },
  {
   "cell_type": "code",
   "execution_count": null,
   "metadata": {},
   "outputs": [],
   "source": []
  },
  {
   "cell_type": "code",
   "execution_count": null,
   "metadata": {},
   "outputs": [],
   "source": []
  }
 ],
 "metadata": {
  "kernelspec": {
   "display_name": "Python 3",
   "language": "python",
   "name": "python3"
  },
  "language_info": {
   "codemirror_mode": {
    "name": "ipython",
    "version": 3
   },
   "file_extension": ".py",
   "mimetype": "text/x-python",
   "name": "python",
   "nbconvert_exporter": "python",
   "pygments_lexer": "ipython3",
   "version": "3.7.5"
  }
 },
 "nbformat": 4,
 "nbformat_minor": 2
}
