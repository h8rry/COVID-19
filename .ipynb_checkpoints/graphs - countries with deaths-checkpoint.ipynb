{
 "cells": [
  {
   "cell_type": "code",
   "execution_count": 1,
   "metadata": {},
   "outputs": [],
   "source": [
    "import numpy as np\n",
    "import pandas as pd\n",
    "import matplotlib.pyplot as plt\n",
    "from datetime import datetime, timedelta\n",
    "\n",
    "import matplotlib.ticker as mtick\n",
    "\n",
    "import glob"
   ]
  },
  {
   "cell_type": "code",
   "execution_count": 2,
   "metadata": {},
   "outputs": [],
   "source": [
    "import world_bank_data as wb\n",
    "\n",
    "pop = pd.DataFrame(wb.get_series('SP.POP.TOTL', mrv=1))\n",
    "pop = pop.reset_index()"
   ]
  },
  {
   "cell_type": "code",
   "execution_count": 3,
   "metadata": {
    "scrolled": false
   },
   "outputs": [],
   "source": [
    "median_age = pd.read_csv('./WHS9_86,WHS9_88,WHS9_89,WHS9_92,WHS9_96,WHS9_97,WHS9_90.csv', \\\n",
    "                         index_col=[0])"
   ]
  },
  {
   "cell_type": "code",
   "execution_count": 4,
   "metadata": {},
   "outputs": [],
   "source": [
    "median_age = median_age.iloc[1:,0]"
   ]
  },
  {
   "cell_type": "code",
   "execution_count": 5,
   "metadata": {},
   "outputs": [
    {
     "data": {
      "text/plain": [
       "Series([], Name: Population median age (years), dtype: float64)"
      ]
     },
     "execution_count": 5,
     "metadata": {},
     "output_type": "execute_result"
    }
   ],
   "source": [
    "median_age[median_age.index == 'United States']"
   ]
  },
  {
   "cell_type": "code",
   "execution_count": 6,
   "metadata": {},
   "outputs": [],
   "source": [
    "df_c = pd.read_csv('csse_covid_19_data/csse_covid_19_time_series/time_series_covid19_confirmed_global.csv', \\\n",
    "                 parse_dates=True)"
   ]
  },
  {
   "cell_type": "code",
   "execution_count": 7,
   "metadata": {},
   "outputs": [],
   "source": [
    "df_c = df_c[df_c['Province/State'] != 'Diamond Princess']\n",
    "df_c = df_c[df_c['Province/State'] != 'Grand Princess']\n",
    "df_c = df_c.groupby('Country/Region').sum()\n",
    "df_c = df_c.T\n",
    "df_c = df_c.drop('Lat')\n",
    "df_c = df_c.drop('Long')\n",
    "df_c = df_c.rename(columns={\"US\": \"United States of America\"}, errors=\"raise\")\n",
    "df_c = df_c.rename(columns={\"Korea, South\": \"Republic of Korea\"}, errors=\"raise\")\n",
    "df_c = df_c.rename(columns={\"Iran\": \"Iran (Islamic Republic of)\"}, errors=\"raise\")\n",
    "df_c = df_c.rename(columns={\"United Kingdom\": \"United Kingdom of Great Britain and Northern Ireland\"}, errors=\"raise\")\n",
    "df_c.columns\n",
    "df_c.index = pd.to_datetime(df_c.index)\n",
    "df_c.index.name = 'Date'"
   ]
  },
  {
   "cell_type": "code",
   "execution_count": 8,
   "metadata": {},
   "outputs": [],
   "source": [
    "df = pd.read_csv('csse_covid_19_data/csse_covid_19_time_series/time_series_covid19_deaths_global.csv', \\\n",
    "                 parse_dates=True)"
   ]
  },
  {
   "cell_type": "code",
   "execution_count": 9,
   "metadata": {},
   "outputs": [],
   "source": [
    "df = df[df['Province/State'] != 'Diamond Princess']\n",
    "df = df[df['Province/State'] != 'Grand Princess']\n",
    "df = df.groupby('Country/Region').sum()\n",
    "df = df.T\n",
    "df = df.drop('Lat')\n",
    "df = df.drop('Long')\n",
    "df = df.rename(columns={\"US\": \"United States of America\"}, errors=\"raise\")\n",
    "df = df.rename(columns={\"Korea, South\": \"Republic of Korea\"}, errors=\"raise\")\n",
    "df = df.rename(columns={\"Iran\": \"Iran (Islamic Republic of)\"}, errors=\"raise\")\n",
    "df = df.rename(columns={\"United Kingdom\": \"United Kingdom of Great Britain and Northern Ireland\"}, errors=\"raise\")\n",
    "df.columns\n",
    "df.index = pd.to_datetime(df.index)\n",
    "df.index.name = 'Date'"
   ]
  },
  {
   "cell_type": "code",
   "execution_count": 10,
   "metadata": {},
   "outputs": [],
   "source": [
    "today = df.iloc[-1]"
   ]
  },
  {
   "cell_type": "code",
   "execution_count": 11,
   "metadata": {},
   "outputs": [
    {
     "name": "stdout",
     "output_type": "stream",
     "text": [
      "Index(['Algeria', 'Australia', 'Austria', 'Brazil', 'Canada', 'Denmark',\n",
      "       'Diamond Princess', 'Dominican Republic', 'Ecuador', 'Egypt', 'Greece',\n",
      "       'Hungary', 'India', 'Indonesia', 'Iraq', 'Ireland', 'Japan', 'Malaysia',\n",
      "       'Morocco', 'Norway', 'Philippines', 'Poland', 'Portugal', 'Romania',\n",
      "       'San Marino', 'Sweden', 'Turkey'],\n",
      "      dtype='object', name='Country/Region')\n",
      "Index(['Belgium', 'Germany', 'Republic of Korea', 'Netherlands', 'Switzerland',\n",
      "       'United Kingdom of Great Britain and Northern Ireland'],\n",
      "      dtype='object', name='Country/Region')\n",
      "Index(['China', 'France', 'Iran (Islamic Republic of)', 'Italy', 'Spain',\n",
      "       'United States of America'],\n",
      "      dtype='object', name='Country/Region')\n"
     ]
    }
   ],
   "source": [
    "print(today[(today >= 10) & (today < 100)].index)\n",
    "print(today[(today >= 100) & (today < 1000)].index)\n",
    "print(today[(today >= 1000)].index)"
   ]
  },
  {
   "cell_type": "code",
   "execution_count": 12,
   "metadata": {},
   "outputs": [
    {
     "name": "stdout",
     "output_type": "stream",
     "text": [
      "['Belgium', 'Brazil', 'China', 'France', 'Germany', 'Indonesia', 'Iran (Islamic Republic of)', 'Italy', 'Republic of Korea', 'Netherlands', 'Portugal', 'Spain', 'Sweden', 'Switzerland', 'Turkey', 'United States of America', 'United Kingdom of Great Britain and Northern Ireland']\n"
     ]
    }
   ],
   "source": [
    "condition = today[(today > 50)].index\n",
    "print(list(condition))"
   ]
  },
  {
   "cell_type": "code",
   "execution_count": 13,
   "metadata": {},
   "outputs": [],
   "source": [
    "countries = list(condition)\n",
    "# countries.remove('Iran')\n",
    "# countries.remove('China')\n",
    "# countries.append('Canada')\n",
    "\n",
    "min_case_num = 1\n",
    "min_case_pct = 1/100000.\n",
    "title_name = \"countries with >50 deaths\""
   ]
  },
  {
   "cell_type": "code",
   "execution_count": 14,
   "metadata": {
    "scrolled": false
   },
   "outputs": [],
   "source": [
    "data = {}\n",
    "data_original = {}\n",
    "data_pct = {}\n",
    "\n",
    "for c in countries:\n",
    "    data_original[c] = df[c]\n",
    "\n",
    "    country = df[c]\n",
    "    country100 = country[country >= min_case_num]\n",
    "    country100 = country100.reset_index()\n",
    "    data[c] = country100[c]\n",
    "    \n",
    "#     size = pop[pop['Country'] == c]['SP.POP.TOTL']\n",
    "#     df[c+' (by population)'] = df[c] * 1. / int(size)\n",
    "\n",
    "#     country_pct = df[c+' (by population)']\n",
    "#     country0_00001 = country_pct[country_pct >= min_case_pct]\n",
    "#     country0_00001 = country0_00001.reset_index()\n",
    "#     data_pct[c] = country0_00001[c+' (by population)']"
   ]
  },
  {
   "cell_type": "code",
   "execution_count": 15,
   "metadata": {},
   "outputs": [],
   "source": [
    "scatter = {}\n",
    "\n",
    "for c in countries:\n",
    "    m_age = median_age[median_age.index == c]\n",
    "    m_age = m_age[0]\n",
    "    num_death = df[c][-1]\n",
    "    num_confirmed = df_c[c][-1]\n",
    "    death_rate = num_death/num_confirmed * 100.\n",
    "\n",
    "#     print(c)\n",
    "#     print(m_age)\n",
    "#     print(num_death)\n",
    "#     print(num_confirmed)\n",
    "#     print(death_rate)\n",
    "#     print('---')\n",
    "    \n",
    "    scatter[c] = [m_age, death_rate, num_death, num_confirmed]\n",
    "    \n",
    "# print(scatter)\n",
    "df_death = pd.DataFrame(data=scatter).T\n",
    "df_death = df_death.reset_index()\n",
    "df_death = df_death.rename(columns={'index': \"country\", 0: \"median age\", 1: \"death rate\", 2: \"deaths\", 3: \"confirmed\"})"
   ]
  },
  {
   "cell_type": "code",
   "execution_count": 16,
   "metadata": {},
   "outputs": [
    {
     "data": {
      "text/html": [
       "<div>\n",
       "<style scoped>\n",
       "    .dataframe tbody tr th:only-of-type {\n",
       "        vertical-align: middle;\n",
       "    }\n",
       "\n",
       "    .dataframe tbody tr th {\n",
       "        vertical-align: top;\n",
       "    }\n",
       "\n",
       "    .dataframe thead th {\n",
       "        text-align: right;\n",
       "    }\n",
       "</style>\n",
       "<table border=\"1\" class=\"dataframe\">\n",
       "  <thead>\n",
       "    <tr style=\"text-align: right;\">\n",
       "      <th></th>\n",
       "      <th>country</th>\n",
       "      <th>median age</th>\n",
       "      <th>death rate</th>\n",
       "      <th>deaths</th>\n",
       "      <th>confirmed</th>\n",
       "    </tr>\n",
       "  </thead>\n",
       "  <tbody>\n",
       "    <tr>\n",
       "      <th>0</th>\n",
       "      <td>Belgium</td>\n",
       "      <td>41.6</td>\n",
       "      <td>3.528468</td>\n",
       "      <td>220.0</td>\n",
       "      <td>6235.0</td>\n",
       "    </tr>\n",
       "    <tr>\n",
       "      <th>1</th>\n",
       "      <td>Brazil</td>\n",
       "      <td>30.3</td>\n",
       "      <td>2.579564</td>\n",
       "      <td>77.0</td>\n",
       "      <td>2985.0</td>\n",
       "    </tr>\n",
       "    <tr>\n",
       "      <th>2</th>\n",
       "      <td>China</td>\n",
       "      <td>37.4</td>\n",
       "      <td>4.024113</td>\n",
       "      <td>3291.0</td>\n",
       "      <td>81782.0</td>\n",
       "    </tr>\n",
       "    <tr>\n",
       "      <th>3</th>\n",
       "      <td>France</td>\n",
       "      <td>40.6</td>\n",
       "      <td>5.745998</td>\n",
       "      <td>1698.0</td>\n",
       "      <td>29551.0</td>\n",
       "    </tr>\n",
       "    <tr>\n",
       "      <th>4</th>\n",
       "      <td>Germany</td>\n",
       "      <td>45.5</td>\n",
       "      <td>0.607674</td>\n",
       "      <td>267.0</td>\n",
       "      <td>43938.0</td>\n",
       "    </tr>\n",
       "    <tr>\n",
       "      <th>5</th>\n",
       "      <td>Indonesia</td>\n",
       "      <td>27.8</td>\n",
       "      <td>8.734602</td>\n",
       "      <td>78.0</td>\n",
       "      <td>893.0</td>\n",
       "    </tr>\n",
       "    <tr>\n",
       "      <th>6</th>\n",
       "      <td>Iran (Islamic Republic of)</td>\n",
       "      <td>28.5</td>\n",
       "      <td>7.597089</td>\n",
       "      <td>2234.0</td>\n",
       "      <td>29406.0</td>\n",
       "    </tr>\n",
       "    <tr>\n",
       "      <th>7</th>\n",
       "      <td>Italy</td>\n",
       "      <td>44.3</td>\n",
       "      <td>10.193699</td>\n",
       "      <td>8215.0</td>\n",
       "      <td>80589.0</td>\n",
       "    </tr>\n",
       "    <tr>\n",
       "      <th>8</th>\n",
       "      <td>Republic of Korea</td>\n",
       "      <td>39.4</td>\n",
       "      <td>1.417595</td>\n",
       "      <td>131.0</td>\n",
       "      <td>9241.0</td>\n",
       "    </tr>\n",
       "    <tr>\n",
       "      <th>9</th>\n",
       "      <td>Netherlands</td>\n",
       "      <td>41.8</td>\n",
       "      <td>5.824853</td>\n",
       "      <td>435.0</td>\n",
       "      <td>7468.0</td>\n",
       "    </tr>\n",
       "    <tr>\n",
       "      <th>10</th>\n",
       "      <td>Portugal</td>\n",
       "      <td>42.2</td>\n",
       "      <td>1.693002</td>\n",
       "      <td>60.0</td>\n",
       "      <td>3544.0</td>\n",
       "    </tr>\n",
       "    <tr>\n",
       "      <th>11</th>\n",
       "      <td>Spain</td>\n",
       "      <td>41.4</td>\n",
       "      <td>7.553733</td>\n",
       "      <td>4365.0</td>\n",
       "      <td>57786.0</td>\n",
       "    </tr>\n",
       "    <tr>\n",
       "      <th>12</th>\n",
       "      <td>Sweden</td>\n",
       "      <td>41.0</td>\n",
       "      <td>2.711268</td>\n",
       "      <td>77.0</td>\n",
       "      <td>2840.0</td>\n",
       "    </tr>\n",
       "    <tr>\n",
       "      <th>13</th>\n",
       "      <td>Switzerland</td>\n",
       "      <td>42.0</td>\n",
       "      <td>1.617137</td>\n",
       "      <td>191.0</td>\n",
       "      <td>11811.0</td>\n",
       "    </tr>\n",
       "    <tr>\n",
       "      <th>14</th>\n",
       "      <td>Turkey</td>\n",
       "      <td>29.4</td>\n",
       "      <td>2.066685</td>\n",
       "      <td>75.0</td>\n",
       "      <td>3629.0</td>\n",
       "    </tr>\n",
       "    <tr>\n",
       "      <th>15</th>\n",
       "      <td>United States of America</td>\n",
       "      <td>37.4</td>\n",
       "      <td>1.442101</td>\n",
       "      <td>1209.0</td>\n",
       "      <td>83836.0</td>\n",
       "    </tr>\n",
       "    <tr>\n",
       "      <th>16</th>\n",
       "      <td>United Kingdom of Great Britain and Northern I...</td>\n",
       "      <td>40.2</td>\n",
       "      <td>4.910261</td>\n",
       "      <td>580.0</td>\n",
       "      <td>11812.0</td>\n",
       "    </tr>\n",
       "  </tbody>\n",
       "</table>\n",
       "</div>"
      ],
      "text/plain": [
       "                                              country  median age  death rate  \\\n",
       "0                                             Belgium        41.6    3.528468   \n",
       "1                                              Brazil        30.3    2.579564   \n",
       "2                                               China        37.4    4.024113   \n",
       "3                                              France        40.6    5.745998   \n",
       "4                                             Germany        45.5    0.607674   \n",
       "5                                           Indonesia        27.8    8.734602   \n",
       "6                          Iran (Islamic Republic of)        28.5    7.597089   \n",
       "7                                               Italy        44.3   10.193699   \n",
       "8                                   Republic of Korea        39.4    1.417595   \n",
       "9                                         Netherlands        41.8    5.824853   \n",
       "10                                           Portugal        42.2    1.693002   \n",
       "11                                              Spain        41.4    7.553733   \n",
       "12                                             Sweden        41.0    2.711268   \n",
       "13                                        Switzerland        42.0    1.617137   \n",
       "14                                             Turkey        29.4    2.066685   \n",
       "15                           United States of America        37.4    1.442101   \n",
       "16  United Kingdom of Great Britain and Northern I...        40.2    4.910261   \n",
       "\n",
       "    deaths  confirmed  \n",
       "0    220.0     6235.0  \n",
       "1     77.0     2985.0  \n",
       "2   3291.0    81782.0  \n",
       "3   1698.0    29551.0  \n",
       "4    267.0    43938.0  \n",
       "5     78.0      893.0  \n",
       "6   2234.0    29406.0  \n",
       "7   8215.0    80589.0  \n",
       "8    131.0     9241.0  \n",
       "9    435.0     7468.0  \n",
       "10    60.0     3544.0  \n",
       "11  4365.0    57786.0  \n",
       "12    77.0     2840.0  \n",
       "13   191.0    11811.0  \n",
       "14    75.0     3629.0  \n",
       "15  1209.0    83836.0  \n",
       "16   580.0    11812.0  "
      ]
     },
     "execution_count": 16,
     "metadata": {},
     "output_type": "execute_result"
    }
   ],
   "source": [
    "df_death"
   ]
  },
  {
   "cell_type": "code",
   "execution_count": 17,
   "metadata": {},
   "outputs": [
    {
     "data": {
      "text/plain": [
       "Text(0, 0.5, 'Death rate %')"
      ]
     },
     "execution_count": 17,
     "metadata": {},
     "output_type": "execute_result"
    },
    {
     "data": {
      "image/png": "[encoded data removed]",
      "text/plain": [
       "<Figure size 720x720 with 1 Axes>"
      ]
     },
     "metadata": {
      "needs_background": "light"
     },
     "output_type": "display_data"
    }
   ],
   "source": [
    "fig, axes = plt.subplots(1, sharex=\"all\", gridspec_kw={'height_ratios': [1]}, figsize=(10, 10))\n",
    "\n",
    "# import matplotlib.cm as cm\n",
    "import matplotlib.colors as colors\n",
    "\n",
    "# df_death.plot.scatter(x='median age',\n",
    "#                       y='death rate',\n",
    "#                       label='country',\n",
    "#                       ax=axes)\n",
    "\n",
    "# x = df_death['median age']\n",
    "# y = df_death['death rate']\n",
    "# l = df_death['country']\n",
    "\n",
    "# colormap = cm.viridis\n",
    "# colorlist = [colors.rgb2hex(colormap(i)) for i in np.linspace(0, 0.9, len(df_death['country']))]\n",
    "colorlist = list(colors.ColorConverter.colors.keys())\n",
    "\n",
    "for i,c in enumerate(list(df_death['country'])):\n",
    "    x = df_death['median age'][i]\n",
    "    y = df_death['death rate'][i]\n",
    "    l = df_death['country'][i]\n",
    "\n",
    "    axes.scatter(x, y, label=l, s=100, c=colorlist[(i+21) % len(colorlist)])\n",
    "    \n",
    "    if l == 'United States of America':\n",
    "        axes.annotate('US', (x*1.01, y*1.01))\n",
    "    elif l == 'Republic of Korea':\n",
    "        axes.annotate('South Korea', (x*1.01, y*1.01))\n",
    "    elif l == 'United Kingdom of Great Britain and Northern Ireland':\n",
    "        axes.annotate('UK', (x*1.01, y*1.01))\n",
    "    else:\n",
    "        axes.annotate(l, (x*1.01, y*1.01))\n",
    "\n",
    "# axes.legend()\n",
    "axes.yaxis.set_major_formatter(mtick.PercentFormatter())\n",
    "axes.set_title(\"COVID-19: Death Rate vs. Median age\")\n",
    "axes.set_xlabel(\"Median age\")\n",
    "axes.set_ylabel(\"Death rate %\")"
   ]
  },
  {
   "cell_type": "code",
   "execution_count": null,
   "metadata": {},
   "outputs": [
    {
     "data": {
      "text/plain": [
       "Text(0.5, 0, 'Days after passing 1 death')"
      ]
     },
     "execution_count": 20,
     "metadata": {},
     "output_type": "execute_result"
    }
   ],
   "source": [
    "fig, axes = plt.subplots(1, sharex=\"all\", gridspec_kw={'height_ratios': [1]}, figsize=(10, 10))\n",
    "\n",
    "for c in data.keys():\n",
    "    data[c].plot(marker='o')\n",
    "\n",
    "axes.legend()\n",
    "axes.set_title(\"# of Death from COVID-19 in \" + title_name + \" (Linear Scale)\")\n",
    "axes.set_xlabel(\"Days after passing \" + str(min_case_num) + \" death\")"
   ]
  },
  {
   "cell_type": "code",
   "execution_count": 19,
   "metadata": {
    "scrolled": false
   },
   "outputs": [
    {
     "data": {
      "text/plain": [
       "Text(0.5, 0, 'Days after passing 1 death')"
      ]
     },
     "execution_count": 19,
     "metadata": {},
     "output_type": "execute_result"
    },
    {
     "data": {
      "image/png": "[encoded data removed]",
      "text/plain": [
       "<Figure size 720x1440 with 17 Axes>"
      ]
     },
     "metadata": {
      "needs_background": "light"
     },
     "output_type": "display_data"
    }
   ],
   "source": [
    "fig, axes = plt.subplots(len(data.keys()), figsize=(10, 20))\n",
    "\n",
    "i = 0\n",
    "for c in data.keys():\n",
    "    data[c].diff().plot(ax=axes[i], kind=\"bar\")\n",
    "    axes[i].legend()\n",
    "    i += 1\n",
    "\n",
    "axes[0].set_title(\"# of Death from COVID-19 in \" + title_name)\n",
    "axes[-1].set_xlabel(\"Days after passing \" + str(min_case_num) + \" death\")"
   ]
  },
  {
   "cell_type": "code",
   "execution_count": null,
   "metadata": {},
   "outputs": [],
   "source": []
  },
  {
   "cell_type": "code",
   "execution_count": null,
   "metadata": {},
   "outputs": [],
   "source": []
  }
 ],
 "metadata": {
  "kernelspec": {
   "display_name": "Python 3",
   "language": "python",
   "name": "python3"
  },
  "language_info": {
   "codemirror_mode": {
    "name": "ipython",
    "version": 3
   },
   "file_extension": ".py",
   "mimetype": "text/x-python",
   "name": "python",
   "nbconvert_exporter": "python",
   "pygments_lexer": "ipython3",
   "version": "3.7.5"
  }
 },
 "nbformat": 4,
 "nbformat_minor": 2
}
