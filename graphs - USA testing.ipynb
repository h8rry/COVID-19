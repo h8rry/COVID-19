{
 "cells": [
  {
   "cell_type": "code",
   "execution_count": 1,
   "metadata": {},
   "outputs": [],
   "source": [
    "import numpy as np\n",
    "import pandas as pd\n",
    "import matplotlib.pyplot as plt\n",
    "from datetime import datetime, timedelta\n",
    "\n",
    "import matplotlib.ticker as mtick\n",
    "\n",
    "import glob"
   ]
  },
  {
   "cell_type": "code",
   "execution_count": 2,
   "metadata": {},
   "outputs": [],
   "source": [
    "# from census import Census\n",
    "# from us import states"
   ]
  },
  {
   "cell_type": "code",
   "execution_count": 3,
   "metadata": {},
   "outputs": [],
   "source": [
    "# states.lookup('DC')"
   ]
  },
  {
   "cell_type": "code",
   "execution_count": 4,
   "metadata": {},
   "outputs": [],
   "source": [
    "df = pd.read_csv('us-daily.csv', \\\n",
    "                 parse_dates=True)"
   ]
  },
  {
   "cell_type": "code",
   "execution_count": 5,
   "metadata": {},
   "outputs": [
    {
     "data": {
      "text/html": [
       "<div>\n",
       "<style scoped>\n",
       "    .dataframe tbody tr th:only-of-type {\n",
       "        vertical-align: middle;\n",
       "    }\n",
       "\n",
       "    .dataframe tbody tr th {\n",
       "        vertical-align: top;\n",
       "    }\n",
       "\n",
       "    .dataframe thead th {\n",
       "        text-align: right;\n",
       "    }\n",
       "</style>\n",
       "<table border=\"1\" class=\"dataframe\">\n",
       "  <thead>\n",
       "    <tr style=\"text-align: right;\">\n",
       "      <th></th>\n",
       "      <th>date</th>\n",
       "      <th>states</th>\n",
       "      <th>positive</th>\n",
       "      <th>negative</th>\n",
       "      <th>posNeg</th>\n",
       "      <th>pending</th>\n",
       "      <th>hospitalized</th>\n",
       "      <th>death</th>\n",
       "      <th>total</th>\n",
       "    </tr>\n",
       "  </thead>\n",
       "  <tbody>\n",
       "    <tr>\n",
       "      <th>0</th>\n",
       "      <td>20200323</td>\n",
       "      <td>56</td>\n",
       "      <td>42164</td>\n",
       "      <td>237321</td>\n",
       "      <td>279485</td>\n",
       "      <td>14571</td>\n",
       "      <td>3325.0</td>\n",
       "      <td>471.0</td>\n",
       "      <td>294056</td>\n",
       "    </tr>\n",
       "    <tr>\n",
       "      <th>1</th>\n",
       "      <td>20200322</td>\n",
       "      <td>56</td>\n",
       "      <td>31888</td>\n",
       "      <td>193463</td>\n",
       "      <td>225351</td>\n",
       "      <td>2842</td>\n",
       "      <td>2554.0</td>\n",
       "      <td>398.0</td>\n",
       "      <td>228216</td>\n",
       "    </tr>\n",
       "    <tr>\n",
       "      <th>2</th>\n",
       "      <td>20200321</td>\n",
       "      <td>56</td>\n",
       "      <td>23203</td>\n",
       "      <td>155909</td>\n",
       "      <td>179112</td>\n",
       "      <td>3477</td>\n",
       "      <td>1964.0</td>\n",
       "      <td>272.0</td>\n",
       "      <td>182589</td>\n",
       "    </tr>\n",
       "    <tr>\n",
       "      <th>3</th>\n",
       "      <td>20200320</td>\n",
       "      <td>56</td>\n",
       "      <td>17038</td>\n",
       "      <td>118147</td>\n",
       "      <td>135185</td>\n",
       "      <td>3336</td>\n",
       "      <td>NaN</td>\n",
       "      <td>219.0</td>\n",
       "      <td>138521</td>\n",
       "    </tr>\n",
       "    <tr>\n",
       "      <th>4</th>\n",
       "      <td>20200319</td>\n",
       "      <td>56</td>\n",
       "      <td>11723</td>\n",
       "      <td>89119</td>\n",
       "      <td>100842</td>\n",
       "      <td>3025</td>\n",
       "      <td>NaN</td>\n",
       "      <td>160.0</td>\n",
       "      <td>103867</td>\n",
       "    </tr>\n",
       "    <tr>\n",
       "      <th>5</th>\n",
       "      <td>20200318</td>\n",
       "      <td>56</td>\n",
       "      <td>7731</td>\n",
       "      <td>66225</td>\n",
       "      <td>73956</td>\n",
       "      <td>2538</td>\n",
       "      <td>NaN</td>\n",
       "      <td>112.0</td>\n",
       "      <td>76495</td>\n",
       "    </tr>\n",
       "    <tr>\n",
       "      <th>6</th>\n",
       "      <td>20200317</td>\n",
       "      <td>56</td>\n",
       "      <td>5723</td>\n",
       "      <td>47604</td>\n",
       "      <td>53327</td>\n",
       "      <td>1687</td>\n",
       "      <td>NaN</td>\n",
       "      <td>90.0</td>\n",
       "      <td>54957</td>\n",
       "    </tr>\n",
       "    <tr>\n",
       "      <th>7</th>\n",
       "      <td>20200316</td>\n",
       "      <td>56</td>\n",
       "      <td>4019</td>\n",
       "      <td>36104</td>\n",
       "      <td>40123</td>\n",
       "      <td>1691</td>\n",
       "      <td>NaN</td>\n",
       "      <td>71.0</td>\n",
       "      <td>41714</td>\n",
       "    </tr>\n",
       "    <tr>\n",
       "      <th>8</th>\n",
       "      <td>20200315</td>\n",
       "      <td>51</td>\n",
       "      <td>3173</td>\n",
       "      <td>22548</td>\n",
       "      <td>25721</td>\n",
       "      <td>2242</td>\n",
       "      <td>NaN</td>\n",
       "      <td>60.0</td>\n",
       "      <td>27963</td>\n",
       "    </tr>\n",
       "    <tr>\n",
       "      <th>9</th>\n",
       "      <td>20200314</td>\n",
       "      <td>51</td>\n",
       "      <td>2450</td>\n",
       "      <td>17102</td>\n",
       "      <td>19552</td>\n",
       "      <td>1236</td>\n",
       "      <td>NaN</td>\n",
       "      <td>49.0</td>\n",
       "      <td>20789</td>\n",
       "    </tr>\n",
       "    <tr>\n",
       "      <th>10</th>\n",
       "      <td>20200313</td>\n",
       "      <td>51</td>\n",
       "      <td>1922</td>\n",
       "      <td>13613</td>\n",
       "      <td>15535</td>\n",
       "      <td>1130</td>\n",
       "      <td>NaN</td>\n",
       "      <td>39.0</td>\n",
       "      <td>16665</td>\n",
       "    </tr>\n",
       "    <tr>\n",
       "      <th>11</th>\n",
       "      <td>20200312</td>\n",
       "      <td>51</td>\n",
       "      <td>1315</td>\n",
       "      <td>7949</td>\n",
       "      <td>9264</td>\n",
       "      <td>673</td>\n",
       "      <td>NaN</td>\n",
       "      <td>36.0</td>\n",
       "      <td>9966</td>\n",
       "    </tr>\n",
       "    <tr>\n",
       "      <th>12</th>\n",
       "      <td>20200311</td>\n",
       "      <td>51</td>\n",
       "      <td>1053</td>\n",
       "      <td>5978</td>\n",
       "      <td>7031</td>\n",
       "      <td>563</td>\n",
       "      <td>NaN</td>\n",
       "      <td>27.0</td>\n",
       "      <td>7617</td>\n",
       "    </tr>\n",
       "    <tr>\n",
       "      <th>13</th>\n",
       "      <td>20200310</td>\n",
       "      <td>51</td>\n",
       "      <td>778</td>\n",
       "      <td>3807</td>\n",
       "      <td>4585</td>\n",
       "      <td>469</td>\n",
       "      <td>NaN</td>\n",
       "      <td>NaN</td>\n",
       "      <td>5054</td>\n",
       "    </tr>\n",
       "    <tr>\n",
       "      <th>14</th>\n",
       "      <td>20200309</td>\n",
       "      <td>51</td>\n",
       "      <td>584</td>\n",
       "      <td>3367</td>\n",
       "      <td>3951</td>\n",
       "      <td>313</td>\n",
       "      <td>NaN</td>\n",
       "      <td>NaN</td>\n",
       "      <td>4264</td>\n",
       "    </tr>\n",
       "    <tr>\n",
       "      <th>15</th>\n",
       "      <td>20200308</td>\n",
       "      <td>51</td>\n",
       "      <td>417</td>\n",
       "      <td>2335</td>\n",
       "      <td>2752</td>\n",
       "      <td>347</td>\n",
       "      <td>NaN</td>\n",
       "      <td>NaN</td>\n",
       "      <td>3099</td>\n",
       "    </tr>\n",
       "    <tr>\n",
       "      <th>16</th>\n",
       "      <td>20200307</td>\n",
       "      <td>51</td>\n",
       "      <td>341</td>\n",
       "      <td>1809</td>\n",
       "      <td>2150</td>\n",
       "      <td>602</td>\n",
       "      <td>NaN</td>\n",
       "      <td>NaN</td>\n",
       "      <td>2752</td>\n",
       "    </tr>\n",
       "    <tr>\n",
       "      <th>17</th>\n",
       "      <td>20200306</td>\n",
       "      <td>36</td>\n",
       "      <td>223</td>\n",
       "      <td>1571</td>\n",
       "      <td>1794</td>\n",
       "      <td>458</td>\n",
       "      <td>NaN</td>\n",
       "      <td>NaN</td>\n",
       "      <td>2252</td>\n",
       "    </tr>\n",
       "    <tr>\n",
       "      <th>18</th>\n",
       "      <td>20200305</td>\n",
       "      <td>24</td>\n",
       "      <td>176</td>\n",
       "      <td>953</td>\n",
       "      <td>1129</td>\n",
       "      <td>197</td>\n",
       "      <td>NaN</td>\n",
       "      <td>NaN</td>\n",
       "      <td>1326</td>\n",
       "    </tr>\n",
       "    <tr>\n",
       "      <th>19</th>\n",
       "      <td>20200304</td>\n",
       "      <td>14</td>\n",
       "      <td>118</td>\n",
       "      <td>748</td>\n",
       "      <td>866</td>\n",
       "      <td>103</td>\n",
       "      <td>NaN</td>\n",
       "      <td>NaN</td>\n",
       "      <td>969</td>\n",
       "    </tr>\n",
       "  </tbody>\n",
       "</table>\n",
       "</div>"
      ],
      "text/plain": [
       "        date  states  positive  negative  posNeg  pending  hospitalized  \\\n",
       "0   20200323      56     42164    237321  279485    14571        3325.0   \n",
       "1   20200322      56     31888    193463  225351     2842        2554.0   \n",
       "2   20200321      56     23203    155909  179112     3477        1964.0   \n",
       "3   20200320      56     17038    118147  135185     3336           NaN   \n",
       "4   20200319      56     11723     89119  100842     3025           NaN   \n",
       "5   20200318      56      7731     66225   73956     2538           NaN   \n",
       "6   20200317      56      5723     47604   53327     1687           NaN   \n",
       "7   20200316      56      4019     36104   40123     1691           NaN   \n",
       "8   20200315      51      3173     22548   25721     2242           NaN   \n",
       "9   20200314      51      2450     17102   19552     1236           NaN   \n",
       "10  20200313      51      1922     13613   15535     1130           NaN   \n",
       "11  20200312      51      1315      7949    9264      673           NaN   \n",
       "12  20200311      51      1053      5978    7031      563           NaN   \n",
       "13  20200310      51       778      3807    4585      469           NaN   \n",
       "14  20200309      51       584      3367    3951      313           NaN   \n",
       "15  20200308      51       417      2335    2752      347           NaN   \n",
       "16  20200307      51       341      1809    2150      602           NaN   \n",
       "17  20200306      36       223      1571    1794      458           NaN   \n",
       "18  20200305      24       176       953    1129      197           NaN   \n",
       "19  20200304      14       118       748     866      103           NaN   \n",
       "\n",
       "    death   total  \n",
       "0   471.0  294056  \n",
       "1   398.0  228216  \n",
       "2   272.0  182589  \n",
       "3   219.0  138521  \n",
       "4   160.0  103867  \n",
       "5   112.0   76495  \n",
       "6    90.0   54957  \n",
       "7    71.0   41714  \n",
       "8    60.0   27963  \n",
       "9    49.0   20789  \n",
       "10   39.0   16665  \n",
       "11   36.0    9966  \n",
       "12   27.0    7617  \n",
       "13    NaN    5054  \n",
       "14    NaN    4264  \n",
       "15    NaN    3099  \n",
       "16    NaN    2752  \n",
       "17    NaN    2252  \n",
       "18    NaN    1326  \n",
       "19    NaN     969  "
      ]
     },
     "execution_count": 5,
     "metadata": {},
     "output_type": "execute_result"
    }
   ],
   "source": [
    "df"
   ]
  },
  {
   "cell_type": "code",
   "execution_count": 6,
   "metadata": {},
   "outputs": [
    {
     "data": {
      "text/plain": [
       "Index(['date', 'states', 'positive', 'negative', 'posNeg', 'pending',\n",
       "       'hospitalized', 'death', 'total'],\n",
       "      dtype='object')"
      ]
     },
     "execution_count": 6,
     "metadata": {},
     "output_type": "execute_result"
    }
   ],
   "source": [
    "df.columns"
   ]
  },
  {
   "cell_type": "code",
   "execution_count": 7,
   "metadata": {},
   "outputs": [],
   "source": [
    "df.index = pd.to_datetime(df['date'], format='%Y%m%d')"
   ]
  },
  {
   "cell_type": "code",
   "execution_count": 8,
   "metadata": {},
   "outputs": [],
   "source": [
    "df.index.name = 'Date'"
   ]
  },
  {
   "cell_type": "code",
   "execution_count": 9,
   "metadata": {},
   "outputs": [],
   "source": [
    "df.sort_index(inplace=True)"
   ]
  },
  {
   "cell_type": "code",
   "execution_count": 10,
   "metadata": {},
   "outputs": [],
   "source": [
    "df['posNeg_daily'] = df['posNeg'].diff()"
   ]
  },
  {
   "cell_type": "code",
   "execution_count": 11,
   "metadata": {},
   "outputs": [],
   "source": [
    "df['positive_daily'] = df['positive'].diff()"
   ]
  },
  {
   "cell_type": "code",
   "execution_count": 12,
   "metadata": {},
   "outputs": [
    {
     "data": {
      "text/plain": [
       "Text(0.5, 0, 'Date')"
      ]
     },
     "execution_count": 12,
     "metadata": {},
     "output_type": "execute_result"
    },
    {
     "data": {
      "image/png": "[encoded data removed]",
      "text/plain": [
       "<Figure size 720x720 with 1 Axes>"
      ]
     },
     "metadata": {
      "needs_background": "light"
     },
     "output_type": "display_data"
    }
   ],
   "source": [
    "fig, axes = plt.subplots(1, sharex=\"all\", gridspec_kw={'height_ratios': [1]}, figsize=(10, 10))\n",
    "\n",
    "df['posNeg'].diff().plot(label=\"Daily tests done\",kind=\"bar\")\n",
    "df['positive'].diff().plot(label=\"Daily positive tests\",kind=\"bar\",color=\"orange\")\n",
    "\n",
    "axes.legend()\n",
    "axes.set_title(\"USA Daily Testing: daily positive tests vs. daily tests\")\n",
    "axes.set_xlabel(\"Date\")"
   ]
  },
  {
   "cell_type": "code",
   "execution_count": 13,
   "metadata": {},
   "outputs": [
    {
     "data": {
      "text/plain": [
       "(0, 34.509661579462275)"
      ]
     },
     "execution_count": 13,
     "metadata": {},
     "output_type": "execute_result"
    },
    {
     "data": {
      "image/png": "[encoded data removed]",
      "text/plain": [
       "<Figure size 720x720 with 1 Axes>"
      ]
     },
     "metadata": {
      "needs_background": "light"
     },
     "output_type": "display_data"
    }
   ],
   "source": [
    "fig, axes = plt.subplots(1, sharex=\"all\", gridspec_kw={'height_ratios': [1]}, figsize=(10, 10))\n",
    "\n",
    "(df['positive'].diff() / df['posNeg'].diff() * 100.).plot(marker='o', label=\"% positive\", color=\"orange\")\n",
    "\n",
    "axes.legend()\n",
    "axes.yaxis.set_major_formatter(mtick.PercentFormatter())\n",
    "axes.set_title(\"USA Testing: dailt % positive tests\")\n",
    "axes.set_xlabel(\"Date\")\n",
    "axes.set_ylim(0)"
   ]
  },
  {
   "cell_type": "code",
   "execution_count": 22,
   "metadata": {},
   "outputs": [
    {
     "name": "stdout",
     "output_type": "stream",
     "text": [
      "20200304 nan\n",
      "20200305 263.0\n",
      "20200306 665.0\n",
      "20200307 356.0\n",
      "20200308 602.0\n",
      "20200309 1199.0\n",
      "20200310 634.0\n",
      "20200311 2446.0\n",
      "20200312 2233.0\n",
      "20200313 6271.0\n",
      "20200314 4017.0\n",
      "20200315 6169.0\n",
      "20200316 14402.0\n",
      "20200317 13204.0\n",
      "20200318 20629.0\n",
      "20200319 26886.0\n",
      "20200320 34343.0\n",
      "20200321 43927.0\n",
      "20200322 46239.0\n",
      "20200323 54134.0\n"
     ]
    }
   ],
   "source": [
    "# for index, row in df.iterrows():\n",
    "#     print(pd.to_datetime(row['date'], format='%Y%m%d').strftime(\"%Y%m%d\"), row['posNeg_daily'])"
   ]
  },
  {
   "cell_type": "code",
   "execution_count": null,
   "metadata": {},
   "outputs": [],
   "source": []
  }
 ],
 "metadata": {
  "kernelspec": {
   "display_name": "Python 3",
   "language": "python",
   "name": "python3"
  },
  "language_info": {
   "codemirror_mode": {
    "name": "ipython",
    "version": 3
   },
   "file_extension": ".py",
   "mimetype": "text/x-python",
   "name": "python",
   "nbconvert_exporter": "python",
   "pygments_lexer": "ipython3",
   "version": "3.7.5"
  }
 },
 "nbformat": 4,
 "nbformat_minor": 2
}
